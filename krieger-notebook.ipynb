{
 "cells": [
  {
   "cell_type": "markdown",
   "id": "61305f81",
   "metadata": {},
   "source": [
    "# Trojan Final Project\n",
    "\n",
    "**Jackson Krieger**\n",
    "\n",
    "This notebook is used to test the code from Duncan's notebook on my computer and make small changes if necessary "
   ]
  },
  {
   "cell_type": "code",
   "execution_count": null,
   "id": "2a945ee5",
   "metadata": {},
   "outputs": [],
   "source": [
    "# import directories\n",
    "import pandas as pd\n",
    "import numpy as np"
   ]
  },
  {
   "cell_type": "code",
   "execution_count": null,
   "id": "c5c850b5-56ce-46cd-ad9b-770f674ee77e",
   "metadata": {},
   "outputs": [],
   "source": [
    "# import data\n",
    "data = pd.read_csv(\"~/work/classes/GPGN268/FP-02-Trojans/sbdb_query_results.csv\", low_memory=False)"
   ]
  },
  {
   "cell_type": "code",
   "execution_count": null,
   "id": "f53b6e2c-9a82-4918-9733-6e0a8ee1e7a0",
   "metadata": {},
   "outputs": [],
   "source": [
    "# separate the data into groups\n",
    "trojans = data[data[\"class\"] == \"TJN\"]\n",
    "centaurs = data[data[\"class\"] == \"CEN\"]\n",
    "outermb = data[data[\"class\"] == \"OMB\"]"
   ]
  },
  {
   "cell_type": "code",
   "execution_count": null,
   "id": "12eea150-99cc-4b4b-b6cc-b6ef21ed5d0a",
   "metadata": {},
   "outputs": [],
   "source": [
    "# if an asteroid is between the perihelion and aphelion it will likely be a trojan\n",
    "\n",
    "perihelion = {\"jupiter\":5.4570}\n",
    "aphelion = {\"jupiter\":4.9506}"
   ]
  },
  {
   "cell_type": "code",
   "execution_count": null,
   "id": "de1b8f62-799b-4321-8ccc-4055f0e68a50",
   "metadata": {},
   "outputs": [],
   "source": [
    "# eccentricity bounds\n",
    "emax = 0.3"
   ]
  },
  {
   "cell_type": "code",
   "execution_count": null,
   "id": "157fef7b-cf48-4777-8cb1-223afe956ef5",
   "metadata": {},
   "outputs": [],
   "source": [
    "import matplotlib.pyplot as plt"
   ]
  },
  {
   "cell_type": "code",
   "execution_count": null,
   "id": "9a84a698-10a8-453c-b77e-acccf827d98b",
   "metadata": {},
   "outputs": [],
   "source": [
    "# plots predicted trojans\n",
    "\n",
    "plt.scatter(trojans[\"a\"], trojans[\"e\"], c = \"r\", s = 4, label = \"trojans\") # trojan points\n",
    "plt.scatter(centaurs[\"a\"], centaurs[\"e\"], c = \"b\", s = 4, label = \"centaurs\") \n",
    "plt.scatter(outermb[\"a\"], outermb[\"e\"], c = \"g\", s = 4, label = \"outer-middle-belt\")\n",
    "plt.axvline(perihelion[\"jupiter\"], c = \"orange\", linestyle = \":\", label = \"jp perihelion/aphelion\")\n",
    "plt.axvline(aphelion[\"jupiter\"], c = \"orange\", linestyle = \":\")\n",
    "plt.axhline(emax, c = \"purple\", linestyle = \":\", label = \"eccentricity max\")\n",
    "plt.legend(loc = 'upper right')\n",
    "plt.semilogx()\n",
    "plt.title(\"Distance vs eccentricity\")\n",
    "plt.xlabel(\"Distance (au)\")\n",
    "plt.ylabel(\"Eccentricity of orbit\")\n",
    "plt.show()"
   ]
  },
  {
   "cell_type": "code",
   "execution_count": null,
   "id": "c804544c-d9f5-438d-9690-88d8cc02da43",
   "metadata": {},
   "outputs": [],
   "source": [
    "# calculates predicted trojans using the aphelion and perihelion values of jupiter\n",
    "predtrojans = trojans[(trojans[\"a\"] >= aphelion[\"jupiter\"]) & (trojans[\"a\"] <= perihelion[\"jupiter\"])]\n",
    "predtrojans = predtrojans[predtrojans[\"e\"] <= emax]"
   ]
  },
  {
   "cell_type": "code",
   "execution_count": null,
   "id": "8e7f96c1-3878-4870-b07d-7f7ae0216edd",
   "metadata": {},
   "outputs": [],
   "source": [
    "# calculates the accuracy of our predicted trojans\n",
    "accuracy = len(predtrojans) / len(trojans)\n",
    "print(accuracy)"
   ]
  },
  {
   "cell_type": "code",
   "execution_count": null,
   "id": "9fd2ab91-6ca9-40a5-800c-24183fd7bfc5",
   "metadata": {},
   "outputs": [],
   "source": [
    "# Time based predictions\n",
    "plt.scatter(outermb[\"ma\"], outermb[\"w\"], c = \"g\", s = 4, label = \"outer-middle-belt\")\n",
    "plt.scatter(trojans[\"ma\"], trojans[\"w\"], c = \"r\", s = 4, label = \"trojans\")\n",
    "plt.scatter(centaurs[\"ma\"], centaurs[\"w\"], c = \"b\", s = 4, label = \"centaurs\")\n",
    "plt.legend(loc = 'upper right')\n",
    "plt.title(\"Mean Anomaly vs Argument of Periapsis\")\n",
    "plt.xlabel(\"Mean anomaly (deg)\")\n",
    "plt.ylabel(\"Arg of periapsis (deg)\")\n",
    "plt.show()\n",
    "\n",
    "# this data is useless for predicting whether or not something is a trojan\n",
    "# plots 2 orbital parameters that change with time when each asteroid is sampled, because that time data is random this data is also random"
   ]
  },
  {
   "cell_type": "code",
   "execution_count": null,
   "id": "cd392669-c4dc-42e7-8ac8-88e77dfa3633",
   "metadata": {},
   "outputs": [],
   "source": []
  }
 ],
 "metadata": {
  "kernelspec": {
   "display_name": "Python 3 (ipykernel)",
   "language": "python",
   "name": "python3"
  },
  "language_info": {
   "codemirror_mode": {
    "name": "ipython",
    "version": 3
   },
   "file_extension": ".py",
   "mimetype": "text/x-python",
   "name": "python",
   "nbconvert_exporter": "python",
   "pygments_lexer": "ipython3",
   "version": "3.10.9"
  }
 },
 "nbformat": 4,
 "nbformat_minor": 5
}
